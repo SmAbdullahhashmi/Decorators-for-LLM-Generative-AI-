{
 "cells": [
  {
   "cell_type": "markdown",
   "id": "0348aa72",
   "metadata": {},
   "source": [
    "# Decorators For LLM (Generative AI) - Continue"
   ]
  },
  {
   "cell_type": "code",
   "execution_count": 1,
   "id": "4441a415",
   "metadata": {},
   "outputs": [
    {
     "name": "stdout",
     "output_type": "stream",
     "text": [
      "Executing smart home system...\n",
      "Adjusting Lighting\n",
      "Smart home system has been executed\n"
     ]
    }
   ],
   "source": [
    "def log_execution(original_function): # Decorator Function\n",
    "    def wrapper():\n",
    "        print(\"Executing smart home system...\")\n",
    "        original_function()\n",
    "        print(\"Smart home system has been executed\")\n",
    "    return wrapper\n",
    "\n",
    "@log_execution \n",
    "def adjust_lighting(): # Decorated Function\n",
    "    print(\"Adjusting Lighting\")\n",
    "\n",
    "adjust_lighting()"
   ]
  },
  {
   "cell_type": "code",
   "execution_count": 2,
   "id": "ccf7b4d8",
   "metadata": {},
   "outputs": [
    {
     "name": "stdout",
     "output_type": "stream",
     "text": [
      "Adjusting Lighting to 80%\n"
     ]
    }
   ],
   "source": [
    "def adjust_lighting(brightness):\n",
    "    print(f\"Adjusting Lighting to {brightness}%\")\n",
    "\n",
    "adjust_lighting(80)"
   ]
  },
  {
   "cell_type": "code",
   "execution_count": 3,
   "id": "04d1f523",
   "metadata": {},
   "outputs": [
    {
     "ename": "TypeError",
     "evalue": "wrapper() takes 0 positional arguments but 1 was given",
     "output_type": "error",
     "traceback": [
      "\u001b[1;31m---------------------------------------------------------------------------\u001b[0m",
      "\u001b[1;31mTypeError\u001b[0m                                 Traceback (most recent call last)",
      "Cell \u001b[1;32mIn[3], line 12\u001b[0m\n\u001b[0;32m      8\u001b[0m \u001b[38;5;129m@log_execution\u001b[39m \n\u001b[0;32m      9\u001b[0m \u001b[38;5;28;01mdef\u001b[39;00m \u001b[38;5;21madjust_lighting\u001b[39m(brightness): \u001b[38;5;66;03m# Decorated Function\u001b[39;00m\n\u001b[0;32m     10\u001b[0m     \u001b[38;5;28mprint\u001b[39m(\u001b[38;5;124mf\u001b[39m\u001b[38;5;124m\"\u001b[39m\u001b[38;5;124mAdjusting Lighting to \u001b[39m\u001b[38;5;132;01m{\u001b[39;00mbrightness\u001b[38;5;132;01m}\u001b[39;00m\u001b[38;5;124m%\u001b[39m\u001b[38;5;124m\"\u001b[39m)\n\u001b[1;32m---> 12\u001b[0m \u001b[43madjust_lighting\u001b[49m\u001b[43m(\u001b[49m\u001b[38;5;241;43m80\u001b[39;49m\u001b[43m)\u001b[49m\n",
      "\u001b[1;31mTypeError\u001b[0m: wrapper() takes 0 positional arguments but 1 was given"
     ]
    }
   ],
   "source": [
    "def log_execution(original_function): # Decorator Function\n",
    "    def wrapper():\n",
    "        print(\"Executing smart home system...\")\n",
    "        original_function()# no arg then will return error\n",
    "        print(\"Smart home system has been executed\")\n",
    "    return wrapper\n",
    "\n",
    "@log_execution \n",
    "def adjust_lighting(brightness): # Decorated Function\n",
    "    print(f\"Adjusting Lighting to {brightness}%\")\n",
    "\n",
    "adjust_lighting(80)"
   ]
  },
  {
   "cell_type": "code",
   "execution_count": 4,
   "id": "1cb27b1a",
   "metadata": {},
   "outputs": [
    {
     "name": "stdout",
     "output_type": "stream",
     "text": [
      "Executing smart home system...\n",
      "Adjusting Lighting to 80%\n",
      "Smart home system has been executed\n"
     ]
    }
   ],
   "source": [
    "def log_execution(original_function): # Decorator Function\n",
    "    def wrapper(arg):\n",
    "        print(\"Executing smart home system...\")\n",
    "        original_function(arg) # now here is arg added \n",
    "        print(\"Smart home system has been executed\")\n",
    "    return wrapper\n",
    "\n",
    "@log_execution \n",
    "def adjust_lighting(brightness): # Decorated Function\n",
    "    print(f\"Adjusting Lighting to {brightness}%\")\n",
    "\n",
    "adjust_lighting(80)"
   ]
  },
  {
   "cell_type": "code",
   "execution_count": 5,
   "id": "b304be6d",
   "metadata": {},
   "outputs": [
    {
     "ename": "TypeError",
     "evalue": "wrapper() takes 1 positional argument but 2 were given",
     "output_type": "error",
     "traceback": [
      "\u001b[1;31m---------------------------------------------------------------------------\u001b[0m",
      "\u001b[1;31mTypeError\u001b[0m                                 Traceback (most recent call last)",
      "Cell \u001b[1;32mIn[5], line 12\u001b[0m\n\u001b[0;32m      8\u001b[0m \u001b[38;5;129m@log_execution\u001b[39m \n\u001b[0;32m      9\u001b[0m \u001b[38;5;28;01mdef\u001b[39;00m \u001b[38;5;21madjust_lighting\u001b[39m(brightness, intensity): \u001b[38;5;66;03m# Decorated Function\u001b[39;00m\n\u001b[0;32m     10\u001b[0m     \u001b[38;5;28mprint\u001b[39m(\u001b[38;5;124mf\u001b[39m\u001b[38;5;124m\"\u001b[39m\u001b[38;5;124mAdjusting Lighting to \u001b[39m\u001b[38;5;132;01m{\u001b[39;00mbrightness\u001b[38;5;132;01m}\u001b[39;00m\u001b[38;5;124m% to make its intensity to \u001b[39m\u001b[38;5;132;01m{\u001b[39;00mintensity\u001b[38;5;132;01m}\u001b[39;00m\u001b[38;5;124m%\u001b[39m\u001b[38;5;124m\"\u001b[39m)\n\u001b[1;32m---> 12\u001b[0m \u001b[43madjust_lighting\u001b[49m\u001b[43m(\u001b[49m\u001b[38;5;241;43m80\u001b[39;49m\u001b[43m,\u001b[49m\u001b[38;5;241;43m40\u001b[39;49m\u001b[43m)\u001b[49m\n",
      "\u001b[1;31mTypeError\u001b[0m: wrapper() takes 1 positional argument but 2 were given"
     ]
    }
   ],
   "source": [
    "def log_execution(original_function): # Decorator Function\n",
    "    def wrapper(arg):\n",
    "        print(\"Executing smart home system...\")\n",
    "        original_function(arg) #need to use asterik * for multiple args\n",
    "        print(\"Smart home system has been executed\")\n",
    "    return wrapper\n",
    "\n",
    "@log_execution \n",
    "def adjust_lighting(brightness, intensity): # Decorated Function\n",
    "    print(f\"Adjusting Lighting to {brightness}% to make its intensity to {intensity}%\")\n",
    "\n",
    "adjust_lighting(80,40)"
   ]
  },
  {
   "cell_type": "code",
   "execution_count": 6,
   "id": "ebcb3344",
   "metadata": {},
   "outputs": [
    {
     "name": "stdout",
     "output_type": "stream",
     "text": [
      "Executing smart home system...\n",
      "Adjusting Lighting to 80% to make its intensity to 40%\n",
      "Smart home system has been executed\n"
     ]
    }
   ],
   "source": [
    "def log_execution(original_function): # Decorator Function\n",
    "    def wrapper(*args):\n",
    "        print(\"Executing smart home system...\")\n",
    "        original_function(*args) # here its is added\n",
    "        print(\"Smart home system has been executed\")\n",
    "    return wrapper\n",
    "\n",
    "@log_execution \n",
    "def adjust_lighting(brightness, intensity): # Decorated Function\n",
    "    print(f\"Adjusting Lighting to {brightness}% to make its intensity to {intensity}%\")\n",
    "\n",
    "adjust_lighting(80,40)"
   ]
  },
  {
   "cell_type": "code",
   "execution_count": 7,
   "id": "f70b9304",
   "metadata": {},
   "outputs": [
    {
     "ename": "TypeError",
     "evalue": "wrapper() got an unexpected keyword argument 'brightness'",
     "output_type": "error",
     "traceback": [
      "\u001b[1;31m---------------------------------------------------------------------------\u001b[0m",
      "\u001b[1;31mTypeError\u001b[0m                                 Traceback (most recent call last)",
      "Cell \u001b[1;32mIn[7], line 1\u001b[0m\n\u001b[1;32m----> 1\u001b[0m \u001b[43madjust_lighting\u001b[49m\u001b[43m(\u001b[49m\u001b[43mbrightness\u001b[49m\u001b[43m \u001b[49m\u001b[38;5;241;43m=\u001b[39;49m\u001b[43m \u001b[49m\u001b[38;5;241;43m80\u001b[39;49m\u001b[43m,\u001b[49m\u001b[43mintensity\u001b[49m\u001b[43m \u001b[49m\u001b[38;5;241;43m=\u001b[39;49m\u001b[43m \u001b[49m\u001b[38;5;241;43m40\u001b[39;49m\u001b[43m)\u001b[49m \u001b[38;5;66;03m#we need to add **kwargs\u001b[39;00m\n",
      "\u001b[1;31mTypeError\u001b[0m: wrapper() got an unexpected keyword argument 'brightness'"
     ]
    }
   ],
   "source": [
    "adjust_lighting(brightness = 80,intensity = 40) #we need to add **kwargs"
   ]
  },
  {
   "cell_type": "code",
   "execution_count": 8,
   "id": "86a0d3aa",
   "metadata": {},
   "outputs": [
    {
     "name": "stdout",
     "output_type": "stream",
     "text": [
      "Executing smart home system...\n",
      "Adjusting Lighting to 80% to make its intensity to 40%\n",
      "Smart home system has been executed\n"
     ]
    }
   ],
   "source": [
    "def log_execution(original_function): # Decorator Function\n",
    "    def wrapper(*args,**kwargs): # here is the example\n",
    "        print(\"Executing smart home system...\")\n",
    "        original_function(*args, **kwargs)\n",
    "        print(\"Smart home system has been executed\")\n",
    "    return wrapper\n",
    "\n",
    "@log_execution \n",
    "def adjust_lighting(brightness, intensity): # Decorated Function\n",
    "    print(f\"Adjusting Lighting to {brightness}% to make its intensity to {intensity}%\")\n",
    "\n",
    "adjust_lighting(80,40)"
   ]
  },
  {
   "cell_type": "code",
   "execution_count": 9,
   "id": "3188c127",
   "metadata": {},
   "outputs": [
    {
     "name": "stdout",
     "output_type": "stream",
     "text": [
      "Executing smart home system...\n",
      "Adjusting Lighting to 80% to make its intensity to 40%\n",
      "Smart home system has been executed\n"
     ]
    }
   ],
   "source": [
    "adjust_lighting(brightness = 80,intensity = 40)"
   ]
  },
  {
   "cell_type": "code",
   "execution_count": 10,
   "id": "34fbdcc6",
   "metadata": {},
   "outputs": [
    {
     "name": "stdout",
     "output_type": "stream",
     "text": [
      "Executing smart home system...\n",
      "Adjusting Lighting to 80% to make its intensity to 40%\n",
      "Smart home system has been executed\n"
     ]
    }
   ],
   "source": [
    "adjust_lighting(80,intensity = 40)"
   ]
  },
  {
   "cell_type": "code",
   "execution_count": 11,
   "id": "2ac05ea1",
   "metadata": {},
   "outputs": [
    {
     "name": "stdout",
     "output_type": "stream",
     "text": [
      "Initiating smart home system...\n",
      "Adjusting Lighting to 80% to make its intensity to 40%\n",
      "Smart home system has been executed\n"
     ]
    }
   ],
   "source": [
    "def log_custom_message(message):\n",
    "    def log_execution(original_function): # Decorator Function\n",
    "        def wrapper(*args,**kwargs):\n",
    "            print(message) # print(\"Executing smart home system...\")\n",
    "            original_function(*args, **kwargs)\n",
    "            print(\"Smart home system has been executed\")\n",
    "        return wrapper\n",
    "    return log_execution\n",
    "\n",
    "@log_custom_message(\"Initiating smart home system...\")\n",
    "def adjust_lighting(brightness, intensity): # Decorated Function\n",
    "    print(f\"Adjusting Lighting to {brightness}% to make its intensity to {intensity}%\")\n",
    "    \n",
    "adjust_lighting(80,intensity = 40)"
   ]
  },
  {
   "cell_type": "markdown",
   "id": "07116bc9",
   "metadata": {},
   "source": [
    "# Decorator chaining"
   ]
  },
  {
   "cell_type": "code",
   "execution_count": 12,
   "id": "4ceff3f8",
   "metadata": {},
   "outputs": [
    {
     "name": "stdout",
     "output_type": "stream",
     "text": [
      "2024-02-28 15:25:16.527019\n"
     ]
    }
   ],
   "source": [
    "import datetime as dt\n",
    "\n",
    "print(dt.datetime.now())"
   ]
  },
  {
   "cell_type": "code",
   "execution_count": 13,
   "id": "2eb7af74",
   "metadata": {},
   "outputs": [
    {
     "name": "stdout",
     "output_type": "stream",
     "text": [
      "2024-02-28 15:25:17.330751\n",
      "Initiating smart home system...\n",
      "Adjusting Lighting to 80% to make its intensity to 40%\n",
      "Smart home system has been executed\n"
     ]
    }
   ],
   "source": [
    "def timestamp(original_function):\n",
    "    def wrapper(*args,**kwargs):\n",
    "        print(dt.datetime.now()) \n",
    "        original_function(*args, **kwargs)\n",
    "    return wrapper\n",
    "\n",
    "\n",
    "def log_custom_message(message):\n",
    "    def log_execution(original_function): # Decorator Function\n",
    "        def wrapper(*args,**kwargs):\n",
    "            print(message) # print(\"Executing smart home system...\")\n",
    "            original_function(*args, **kwargs)\n",
    "            print(\"Smart home system has been executed\")\n",
    "        return wrapper\n",
    "    return log_execution\n",
    "\n",
    "@timestamp\n",
    "@log_custom_message(\"Initiating smart home system...\")\n",
    "def adjust_lighting(brightness, intensity): # Decorated Function\n",
    "    print(f\"Adjusting Lighting to {brightness}% to make its intensity to {intensity}%\")\n",
    "    \n",
    "adjust_lighting(80,intensity = 40)"
   ]
  },
  {
   "cell_type": "code",
   "execution_count": 14,
   "id": "f8a2ce5a",
   "metadata": {},
   "outputs": [
    {
     "name": "stdout",
     "output_type": "stream",
     "text": [
      "Initiating smart home system...\n",
      "2024-02-28 15:25:18.648784\n",
      "Adjusting Lighting to 80% to make its intensity to 40%\n",
      "Smart home system has been executed\n"
     ]
    }
   ],
   "source": [
    "@log_custom_message(\"Initiating smart home system...\")\n",
    "@timestamp\n",
    "def adjust_lighting(brightness, intensity): # Decorated Function\n",
    "    print(f\"Adjusting Lighting to {brightness}% to make its intensity to {intensity}%\")\n",
    "    \n",
    "adjust_lighting(80,intensity = 40)"
   ]
  },
  {
   "cell_type": "code",
   "execution_count": 15,
   "id": "94fca12d",
   "metadata": {},
   "outputs": [
    {
     "name": "stdout",
     "output_type": "stream",
     "text": [
      "Adjusting Lighting to 80% to make its intensity to 40%\n"
     ]
    }
   ],
   "source": [
    "def adjust_lighting(brightness, intensity): # Decorated Function\n",
    "    \"\"\"Informing about adjusting a smart light\"\"\"\n",
    "    print(f\"Adjusting Lighting to {brightness}% to make its intensity to {intensity}%\")\n",
    "    \n",
    "adjust_lighting(80,intensity = 40)"
   ]
  },
  {
   "cell_type": "code",
   "execution_count": 16,
   "id": "5fc6e06e",
   "metadata": {},
   "outputs": [
    {
     "name": "stdout",
     "output_type": "stream",
     "text": [
      "Informing about adjusting a smart light\n",
      "\n",
      "adjust_lighting\n"
     ]
    }
   ],
   "source": [
    "print(adjust_lighting.__doc__)  # __init__\n",
    "print()\n",
    "print(adjust_lighting.__name__ )"
   ]
  },
  {
   "cell_type": "code",
   "execution_count": 17,
   "id": "605818e9",
   "metadata": {},
   "outputs": [
    {
     "name": "stdout",
     "output_type": "stream",
     "text": [
      "2024-02-28 15:25:23.233211\n",
      "Initiating smart home system...\n",
      "Adjusting Lighting to 80% to make its intensity to 40%\n",
      "Smart home system has been executed\n",
      "\n",
      "None\n",
      "\n",
      "wrapper\n"
     ]
    }
   ],
   "source": [
    "def timestamp(original_function):\n",
    "    def wrapper(*args,**kwargs):\n",
    "        print(dt.datetime.now()) \n",
    "        original_function(*args, **kwargs)\n",
    "    return wrapper\n",
    "\n",
    "\n",
    "def log_custom_message(message):\n",
    "    def log_execution(original_function): # Decorator Function\n",
    "        def wrapper(*args,**kwargs):\n",
    "            print(message) # print(\"Executing smart home system...\")\n",
    "            original_function(*args, **kwargs)\n",
    "            print(\"Smart home system has been executed\")\n",
    "        return wrapper\n",
    "    return log_execution\n",
    "\n",
    "@timestamp\n",
    "@log_custom_message(\"Initiating smart home system...\")\n",
    "def adjust_lighting(brightness, intensity): # Decorated Function\n",
    "    \"\"\"Informing about adjusting a smart light\"\"\"\n",
    "    print(f\"Adjusting Lighting to {brightness}% to make its intensity to {intensity}%\")\n",
    "    \n",
    "adjust_lighting(80,intensity = 40)\n",
    "print()\n",
    "print(adjust_lighting.__doc__)  # __init__\n",
    "print()\n",
    "print(adjust_lighting.__name__ )"
   ]
  },
  {
   "cell_type": "code",
   "execution_count": 18,
   "id": "99f5b1e2",
   "metadata": {},
   "outputs": [],
   "source": [
    "from functools import wraps"
   ]
  },
  {
   "cell_type": "code",
   "execution_count": 20,
   "id": "ba7c869a",
   "metadata": {},
   "outputs": [
    {
     "name": "stdout",
     "output_type": "stream",
     "text": [
      "2024-02-28 15:25:36.654588\n",
      "Initiating smart home system...\n",
      "Adjusting Lighting to 80% to make its intensity to 40%\n",
      "Smart home system has been executed\n",
      "\n",
      "Informing about adjusting a smart light\n",
      "\n",
      "adjust_lighting\n"
     ]
    }
   ],
   "source": [
    "def timestamp(original_function):\n",
    "    @wraps(original_function) #inserting synatic sugar\n",
    "    def wrapper(*args,**kwargs):\n",
    "        print(dt.datetime.now()) \n",
    "        original_function(*args, **kwargs)\n",
    "    return wrapper\n",
    "\n",
    "\n",
    "def log_custom_message(message):\n",
    "    def log_execution(original_function): # Decorator Function\n",
    "        @wraps(original_function)\n",
    "        def wrapper(*args,**kwargs):\n",
    "            print(message) # print(\"Executing smart home system...\")\n",
    "            original_function(*args, **kwargs)\n",
    "            print(\"Smart home system has been executed\")\n",
    "        return wrapper\n",
    "    return log_execution\n",
    "\n",
    "@timestamp\n",
    "@log_custom_message(\"Initiating smart home system...\")\n",
    "def adjust_lighting(brightness, intensity): # Decorated Function\n",
    "    \"\"\"Informing about adjusting a smart light\"\"\"\n",
    "    \n",
    "    print(f\"Adjusting Lighting to {brightness}% to make its intensity to {intensity}%\")\n",
    "    \n",
    "adjust_lighting(80,intensity = 40)\n",
    "print()\n",
    "print(adjust_lighting.__doc__)  # __init__\n",
    "print()\n",
    "print(adjust_lighting.__name__ )"
   ]
  }
 ],
 "metadata": {
  "kernelspec": {
   "display_name": "Python 3 (ipykernel)",
   "language": "python",
   "name": "python3"
  },
  "language_info": {
   "codemirror_mode": {
    "name": "ipython",
    "version": 3
   },
   "file_extension": ".py",
   "mimetype": "text/x-python",
   "name": "python",
   "nbconvert_exporter": "python",
   "pygments_lexer": "ipython3",
   "version": "3.9.18"
  }
 },
 "nbformat": 4,
 "nbformat_minor": 5
}
